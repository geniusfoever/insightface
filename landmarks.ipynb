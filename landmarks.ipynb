{
 "cells": [
  {
   "cell_type": "code",
   "execution_count": 6,
   "metadata": {
    "collapsed": true,
    "pycharm": {
     "name": "#%%\n"
    }
   },
   "outputs": [],
   "source": [
    "import os\n",
    "\n",
    "import numpy as np\n",
    "import cv2\n",
    "import insightface\n",
    "from insightface.app import FaceAnalysis"
   ]
  },
  {
   "cell_type": "code",
   "execution_count": 7,
   "outputs": [
    {
     "name": "stdout",
     "output_type": "stream",
     "text": [
      "Applied providers: ['CUDAExecutionProvider', 'CPUExecutionProvider'], with options: {'CUDAExecutionProvider': {'do_copy_in_default_stream': '1', 'cudnn_conv_algo_search': 'EXHAUSTIVE', 'device_id': '0', 'gpu_external_alloc': '0', 'enable_cuda_graph': '0', 'gpu_mem_limit': '18446744073709551615', 'gpu_external_free': '0', 'gpu_external_empty_cache': '0', 'arena_extend_strategy': 'kNextPowerOfTwo', 'cudnn_conv_use_max_workspace': '0', 'cudnn_conv1d_pad_to_nc1d': '0'}, 'CPUExecutionProvider': {}}\n",
      "find model: C:\\Users\\beich/.insightface\\models\\buffalo_l_r100_original\\1k3d68.onnx landmark_3d_68 ['None', 3, 192, 192] 0.0 1.0\n",
      "Applied providers: ['CUDAExecutionProvider', 'CPUExecutionProvider'], with options: {'CUDAExecutionProvider': {'do_copy_in_default_stream': '1', 'cudnn_conv_algo_search': 'EXHAUSTIVE', 'device_id': '0', 'gpu_external_alloc': '0', 'enable_cuda_graph': '0', 'gpu_mem_limit': '18446744073709551615', 'gpu_external_free': '0', 'gpu_external_empty_cache': '0', 'arena_extend_strategy': 'kNextPowerOfTwo', 'cudnn_conv_use_max_workspace': '0', 'cudnn_conv1d_pad_to_nc1d': '0'}, 'CPUExecutionProvider': {}}\n",
      "find model: C:\\Users\\beich/.insightface\\models\\buffalo_l_r100_original\\2d106det.onnx landmark_2d_106 ['None', 3, 192, 192] 0.0 1.0\n",
      "Applied providers: ['CUDAExecutionProvider', 'CPUExecutionProvider'], with options: {'CUDAExecutionProvider': {'do_copy_in_default_stream': '1', 'cudnn_conv_algo_search': 'EXHAUSTIVE', 'device_id': '0', 'gpu_external_alloc': '0', 'enable_cuda_graph': '0', 'gpu_mem_limit': '18446744073709551615', 'gpu_external_free': '0', 'gpu_external_empty_cache': '0', 'arena_extend_strategy': 'kNextPowerOfTwo', 'cudnn_conv_use_max_workspace': '0', 'cudnn_conv1d_pad_to_nc1d': '0'}, 'CPUExecutionProvider': {}}\n",
      "find model: C:\\Users\\beich/.insightface\\models\\buffalo_l_r100_original\\det_10g.onnx detection [1, 3, '?', '?'] 127.5 128.0\n",
      "Applied providers: ['CUDAExecutionProvider', 'CPUExecutionProvider'], with options: {'CUDAExecutionProvider': {'do_copy_in_default_stream': '1', 'cudnn_conv_algo_search': 'EXHAUSTIVE', 'device_id': '0', 'gpu_external_alloc': '0', 'enable_cuda_graph': '0', 'gpu_mem_limit': '18446744073709551615', 'gpu_external_free': '0', 'gpu_external_empty_cache': '0', 'arena_extend_strategy': 'kNextPowerOfTwo', 'cudnn_conv_use_max_workspace': '0', 'cudnn_conv1d_pad_to_nc1d': '0'}, 'CPUExecutionProvider': {}}\n",
      "find model: C:\\Users\\beich/.insightface\\models\\buffalo_l_r100_original\\genderage.onnx genderage ['None', 3, 96, 96] 0.0 1.0\n",
      "Applied providers: ['CUDAExecutionProvider', 'CPUExecutionProvider'], with options: {'CUDAExecutionProvider': {'do_copy_in_default_stream': '1', 'cudnn_conv_algo_search': 'EXHAUSTIVE', 'device_id': '0', 'gpu_external_alloc': '0', 'enable_cuda_graph': '0', 'gpu_mem_limit': '18446744073709551615', 'gpu_external_free': '0', 'gpu_external_empty_cache': '0', 'arena_extend_strategy': 'kNextPowerOfTwo', 'cudnn_conv_use_max_workspace': '0', 'cudnn_conv1d_pad_to_nc1d': '0'}, 'CPUExecutionProvider': {}}\n",
      "find model: C:\\Users\\beich/.insightface\\models\\buffalo_l_r100_original\\r100-arcface-original.onnx recognition [1, 3, 112, 112] 0.0 1.0\n",
      "set det-size: (640, 640)\n",
      "Applied providers: ['CUDAExecutionProvider', 'CPUExecutionProvider'], with options: {'CUDAExecutionProvider': {'do_copy_in_default_stream': '1', 'cudnn_conv_algo_search': 'EXHAUSTIVE', 'device_id': '0', 'gpu_external_alloc': '0', 'enable_cuda_graph': '0', 'gpu_mem_limit': '18446744073709551615', 'gpu_external_free': '0', 'gpu_external_empty_cache': '0', 'arena_extend_strategy': 'kNextPowerOfTwo', 'cudnn_conv_use_max_workspace': '0', 'cudnn_conv1d_pad_to_nc1d': '0'}, 'CPUExecutionProvider': {}}\n",
      "find model: C:\\Users\\beich/.insightface\\models\\buffalo_l_r100_original\\1k3d68.onnx landmark_3d_68 ['None', 3, 192, 192] 0.0 1.0\n",
      "Applied providers: ['CUDAExecutionProvider', 'CPUExecutionProvider'], with options: {'CUDAExecutionProvider': {'do_copy_in_default_stream': '1', 'cudnn_conv_algo_search': 'EXHAUSTIVE', 'device_id': '0', 'gpu_external_alloc': '0', 'enable_cuda_graph': '0', 'gpu_mem_limit': '18446744073709551615', 'gpu_external_free': '0', 'gpu_external_empty_cache': '0', 'arena_extend_strategy': 'kNextPowerOfTwo', 'cudnn_conv_use_max_workspace': '0', 'cudnn_conv1d_pad_to_nc1d': '0'}, 'CPUExecutionProvider': {}}\n",
      "find model: C:\\Users\\beich/.insightface\\models\\buffalo_l_r100_original\\2d106det.onnx landmark_2d_106 ['None', 3, 192, 192] 0.0 1.0\n",
      "Applied providers: ['CUDAExecutionProvider', 'CPUExecutionProvider'], with options: {'CUDAExecutionProvider': {'do_copy_in_default_stream': '1', 'cudnn_conv_algo_search': 'EXHAUSTIVE', 'device_id': '0', 'gpu_external_alloc': '0', 'enable_cuda_graph': '0', 'gpu_mem_limit': '18446744073709551615', 'gpu_external_free': '0', 'gpu_external_empty_cache': '0', 'arena_extend_strategy': 'kNextPowerOfTwo', 'cudnn_conv_use_max_workspace': '0', 'cudnn_conv1d_pad_to_nc1d': '0'}, 'CPUExecutionProvider': {}}\n",
      "find model: C:\\Users\\beich/.insightface\\models\\buffalo_l_r100_original\\det_10g.onnx detection [1, 3, '?', '?'] 127.5 128.0\n",
      "Applied providers: ['CUDAExecutionProvider', 'CPUExecutionProvider'], with options: {'CUDAExecutionProvider': {'do_copy_in_default_stream': '1', 'cudnn_conv_algo_search': 'EXHAUSTIVE', 'device_id': '0', 'gpu_external_alloc': '0', 'enable_cuda_graph': '0', 'gpu_mem_limit': '18446744073709551615', 'gpu_external_free': '0', 'gpu_external_empty_cache': '0', 'arena_extend_strategy': 'kNextPowerOfTwo', 'cudnn_conv_use_max_workspace': '0', 'cudnn_conv1d_pad_to_nc1d': '0'}, 'CPUExecutionProvider': {}}\n",
      "find model: C:\\Users\\beich/.insightface\\models\\buffalo_l_r100_original\\genderage.onnx genderage ['None', 3, 96, 96] 0.0 1.0\n",
      "Applied providers: ['CUDAExecutionProvider', 'CPUExecutionProvider'], with options: {'CUDAExecutionProvider': {'do_copy_in_default_stream': '1', 'cudnn_conv_algo_search': 'EXHAUSTIVE', 'device_id': '0', 'gpu_external_alloc': '0', 'enable_cuda_graph': '0', 'gpu_mem_limit': '18446744073709551615', 'gpu_external_free': '0', 'gpu_external_empty_cache': '0', 'arena_extend_strategy': 'kNextPowerOfTwo', 'cudnn_conv_use_max_workspace': '0', 'cudnn_conv1d_pad_to_nc1d': '0'}, 'CPUExecutionProvider': {}}\n",
      "find model: C:\\Users\\beich/.insightface\\models\\buffalo_l_r100_original\\r100-arcface-original.onnx recognition [1, 3, 112, 112] 0.0 1.0\n",
      "set det-size: (640, 640)\n"
     ]
    }
   ],
   "source": [
    "app = FaceAnalysis(name='buffalo_l_r100_original',providers=['CUDAExecutionProvider'])\n",
    "app.prepare(ctx_id=0, det_size=(640, 640))\n"
   ],
   "metadata": {
    "collapsed": false,
    "pycharm": {
     "name": "#%%\n"
    }
   }
  },
  {
   "cell_type": "code",
   "execution_count": 8,
   "outputs": [
    {
     "name": "stderr",
     "output_type": "stream",
     "text": [
      "D:\\conda\\envs\\genius\\lib\\site-packages\\insightface\\utils\\transform.py:68: FutureWarning: `rcond` parameter will change to the default of machine precision times ``max(M, N)`` where M and N are the input matrix dimensions.\n",
      "To use the future default and silence this warning we advise to pass `rcond=None`, to keep using the old, explicitly pass `rcond=-1`.\n",
      "  P = np.linalg.lstsq(X_homo, Y)[0].T # Affine matrix. 3 x 4\n"
     ]
    }
   ],
   "source": [
    "img = cv2.cvtColor(cv2.imread(r\"D:\\DataBase\\51\\lfw_original\\test\\Aaron_Guiel\\Aaron_Guiel_0001.jpg\",cv2.IMREAD_COLOR), cv2.COLOR_BGR2RGB)\n",
    "\n",
    "faces = app.get(img)"
   ],
   "metadata": {
    "collapsed": false,
    "pycharm": {
     "name": "#%%\n"
    }
   }
  },
  {
   "cell_type": "code",
   "execution_count": 9,
   "outputs": [],
   "source": [
    "faces=np.array(faces[0]['landmark_2d_106']).astype(int)"
   ],
   "metadata": {
    "collapsed": false,
    "pycharm": {
     "name": "#%%\n"
    }
   }
  },
  {
   "cell_type": "code",
   "execution_count": 36,
   "outputs": [],
   "source": [
    "img = cv2.cvtColor(cv2.imread(r\"D:\\DataBase\\51\\lfw_original\\test\\Aaron_Guiel\\Aaron_Guiel_0001.jpg\",cv2.IMREAD_COLOR), cv2.COLOR_BGR2RGB)\n"
   ],
   "metadata": {
    "collapsed": false,
    "pycharm": {
     "name": "#%%\n"
    }
   }
  },
  {
   "cell_type": "code",
   "execution_count": 70,
   "outputs": [
    {
     "name": "stdout",
     "output_type": "stream",
     "text": [
      "[[ 66 104]\n",
      " [ 63 119]\n",
      " [ 62 135]\n",
      " [ 62 150]\n",
      " [ 65 166]\n",
      " [ 73 180]\n",
      " [ 84 191]\n",
      " [ 97 200]\n",
      " [114 204]\n",
      " [130 202]\n",
      " [144 195]\n",
      " [156 186]\n",
      " [164 174]\n",
      " [169 160]\n",
      " [172 145]\n",
      " [173 130]\n",
      " [174 115]]\n"
     ]
    }
   ],
   "source": [
    "import copy\n",
    "from scipy import interpolate\n",
    "import numpy as np\n",
    "def interpolate_524(points_5):\n",
    "    points_5=np.array(points_5[:5])\n",
    "    temp1 = interpolate.interp1d(range(5), points_5[:,0])\n",
    "    temp2 = interpolate.interp1d(range(5), points_5[:,1])\n",
    "    xnew = [0,4/3,8/3,4]\n",
    "    result=np.array([temp1(xnew),temp2(xnew)])\n",
    "    result=result.transpose()\n",
    "\n",
    "    return result\n",
    "\n",
    "def interpolate_eyebrow(original_points):\n",
    "    a=interpolate_524(original_points[:5])\n",
    "    b=interpolate_524(original_points[[4,5,6,7,0]])\n",
    "    c=interpolate_524(original_points[8:13])\n",
    "    d=interpolate_524(original_points[[12,13,14,15,8]])\n",
    "    result=np.r_[a,b,c,d].astype(int)\n",
    "    print(result)\n",
    "    return result\n",
    "window_name = 'Image'\n",
    "# Center coordinates\n",
    "center_coordinates =faces[[ 35,41,40,42,39,37,33,36, 89,95,94,96,93,91,87,90]]\n",
    "center_coordinates=interpolate_eyebrow(center_coordinates)\n",
    "print(center_coordinates)\n",
    "# Radius of circle\n",
    "radius = 3\n",
    "\n",
    "# Red color in BGR\n",
    "color1 = np.array([93, 200, 40])\n",
    "color2 = np.array([40, 200, 93])\n",
    "color1 = np.array([0, 255, 0])\n",
    "color2 = np.array([255, 0, 0])\n",
    "\n",
    "\n",
    "\n",
    "# Line thickness of -1 px\n",
    "thickness = -1\n",
    "image=copy.copy(img)\n",
    "# Using cv2.circle() method\n",
    "# Draw a circle of red color of thickness -1 px\n",
    "l=len(center_coordinates)-1\n",
    "for i,center in enumerate(center_coordinates):\n",
    "    color=color1*(1-(i/l)**2)+color2*(1-((l-i)/l)**2)\n",
    "    color=tuple(map(round,color))\n",
    "    image = cv2.circle(image, center, radius, color, thickness)\n",
    "\n",
    "# Displaying the image\n",
    "cv2.imshow(window_name, cv2.cvtColor(image,cv2.COLOR_BGR2RGB))\n",
    "\n",
    "cv2.imwrite(\"4.jpg\",cv2.cvtColor(image,cv2.COLOR_BGR2RGB))\n",
    "cv2.waitKey(0)\n",
    "cv2.destroyAllWindows()"
   ],
   "metadata": {
    "collapsed": false,
    "pycharm": {
     "name": "#%%\n"
    }
   }
  },
  {
   "cell_type": "code",
   "execution_count": 10,
   "outputs": [],
   "source": [
    "\n",
    "cv2.destroyAllWindows()"
   ],
   "metadata": {
    "collapsed": false,
    "pycharm": {
     "name": "#%%\n"
    }
   }
  },
  {
   "cell_type": "code",
   "execution_count": null,
   "outputs": [],
   "source": [],
   "metadata": {
    "collapsed": false,
    "pycharm": {
     "name": "#%%\n"
    }
   }
  }
 ],
 "metadata": {
  "kernelspec": {
   "display_name": "Python 3",
   "language": "python",
   "name": "python3"
  },
  "language_info": {
   "codemirror_mode": {
    "name": "ipython",
    "version": 2
   },
   "file_extension": ".py",
   "mimetype": "text/x-python",
   "name": "python",
   "nbconvert_exporter": "python",
   "pygments_lexer": "ipython2",
   "version": "2.7.6"
  }
 },
 "nbformat": 4,
 "nbformat_minor": 0
}