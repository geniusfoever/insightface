{
 "cells": [
  {
   "cell_type": "code",
   "execution_count": null,
   "outputs": [],
   "source": [],
   "metadata": {
    "collapsed": false,
    "pycharm": {
     "name": "#%%\n"
    }
   }
  },
  {
   "cell_type": "code",
   "execution_count": 1,
   "metadata": {
    "collapsed": true,
    "pycharm": {
     "name": "#%%\n"
    }
   },
   "outputs": [],
   "source": [
    "import os\n",
    "\n",
    "import numpy as np\n",
    "import cv2\n",
    "import insightface\n",
    "# from insightface.app import FaceAnalysis"
   ]
  },
  {
   "cell_type": "code",
   "execution_count": 6,
   "outputs": [
    {
     "name": "stdout",
     "output_type": "stream",
     "text": [
      "Applied providers: ['CUDAExecutionProvider', 'CPUExecutionProvider'], with options: {'CUDAExecutionProvider': {'do_copy_in_default_stream': '1', 'cudnn_conv_algo_search': 'EXHAUSTIVE', 'device_id': '0', 'gpu_external_alloc': '0', 'enable_cuda_graph': '0', 'gpu_mem_limit': '18446744073709551615', 'gpu_external_free': '0', 'gpu_external_empty_cache': '0', 'arena_extend_strategy': 'kNextPowerOfTwo', 'cudnn_conv_use_max_workspace': '0', 'cudnn_conv1d_pad_to_nc1d': '0'}, 'CPUExecutionProvider': {}}\n",
      "model ignore: C:\\Users\\beich/.insightface\\models\\buffalo_l_r100_original\\1k3d68.onnx landmark_3d_68\n",
      "Applied providers: ['CUDAExecutionProvider', 'CPUExecutionProvider'], with options: {'CUDAExecutionProvider': {'do_copy_in_default_stream': '1', 'cudnn_conv_algo_search': 'EXHAUSTIVE', 'device_id': '0', 'gpu_external_alloc': '0', 'enable_cuda_graph': '0', 'gpu_mem_limit': '18446744073709551615', 'gpu_external_free': '0', 'gpu_external_empty_cache': '0', 'arena_extend_strategy': 'kNextPowerOfTwo', 'cudnn_conv_use_max_workspace': '0', 'cudnn_conv1d_pad_to_nc1d': '0'}, 'CPUExecutionProvider': {}}\n",
      "find model: C:\\Users\\beich/.insightface\\models\\buffalo_l_r100_original\\2d106det.onnx landmark_2d_106 ['None', 3, 192, 192] 0.0 1.0\n",
      "Applied providers: ['CUDAExecutionProvider', 'CPUExecutionProvider'], with options: {'CUDAExecutionProvider': {'do_copy_in_default_stream': '1', 'cudnn_conv_algo_search': 'EXHAUSTIVE', 'device_id': '0', 'gpu_external_alloc': '0', 'enable_cuda_graph': '0', 'gpu_mem_limit': '18446744073709551615', 'gpu_external_free': '0', 'gpu_external_empty_cache': '0', 'arena_extend_strategy': 'kNextPowerOfTwo', 'cudnn_conv_use_max_workspace': '0', 'cudnn_conv1d_pad_to_nc1d': '0'}, 'CPUExecutionProvider': {}}\n",
      "find model: C:\\Users\\beich/.insightface\\models\\buffalo_l_r100_original\\det_10g.onnx detection [1, 3, '?', '?'] 127.5 128.0\n",
      "Applied providers: ['CUDAExecutionProvider', 'CPUExecutionProvider'], with options: {'CUDAExecutionProvider': {'do_copy_in_default_stream': '1', 'cudnn_conv_algo_search': 'EXHAUSTIVE', 'device_id': '0', 'gpu_external_alloc': '0', 'enable_cuda_graph': '0', 'gpu_mem_limit': '18446744073709551615', 'gpu_external_free': '0', 'gpu_external_empty_cache': '0', 'arena_extend_strategy': 'kNextPowerOfTwo', 'cudnn_conv_use_max_workspace': '0', 'cudnn_conv1d_pad_to_nc1d': '0'}, 'CPUExecutionProvider': {}}\n",
      "model ignore: C:\\Users\\beich/.insightface\\models\\buffalo_l_r100_original\\genderage.onnx genderage\n",
      "Applied providers: ['CUDAExecutionProvider', 'CPUExecutionProvider'], with options: {'CUDAExecutionProvider': {'do_copy_in_default_stream': '1', 'cudnn_conv_algo_search': 'EXHAUSTIVE', 'device_id': '0', 'gpu_external_alloc': '0', 'enable_cuda_graph': '0', 'gpu_mem_limit': '18446744073709551615', 'gpu_external_free': '0', 'gpu_external_empty_cache': '0', 'arena_extend_strategy': 'kNextPowerOfTwo', 'cudnn_conv_use_max_workspace': '0', 'cudnn_conv1d_pad_to_nc1d': '0'}, 'CPUExecutionProvider': {}}\n",
      "model ignore: C:\\Users\\beich/.insightface\\models\\buffalo_l_r100_original\\r100-arcface-original.onnx recognition\n",
      "set det-size: (640, 640)\n"
     ]
    }
   ],
   "source": [
    "app = FaceAnalysis(name='buffalo_l_r100_original',providers=['CUDAExecutionProvider'],allowed_modules=['detection','landmark_2d_106'])\n",
    "app.prepare(ctx_id=0, det_size=(640, 640))\n"
   ],
   "metadata": {
    "collapsed": false,
    "pycharm": {
     "name": "#%%\n"
    }
   }
  },
  {
   "cell_type": "code",
   "execution_count": 7,
   "outputs": [],
   "source": [
    "\n",
    "faces = app.get(img)"
   ],
   "metadata": {
    "collapsed": false,
    "pycharm": {
     "name": "#%%\n"
    }
   }
  },
  {
   "cell_type": "code",
   "execution_count": 8,
   "outputs": [
    {
     "data": {
      "text/plain": "[{'bbox': array([ 63.757607,  56.124783, 173.10286 , 201.49318 ], dtype=float32),\n  'kps': array([[100.397   , 111.5616  ],\n         [147.20381 , 119.99308 ],\n         [122.78383 , 139.87431 ],\n         [ 94.735695, 156.80394 ],\n         [139.21259 , 163.79388 ]], dtype=float32),\n  'det_score': 0.8179565,\n  'landmark_2d_106': array([[114.29994 , 204.2743  ],\n         [ 66.37426 , 104.44372 ],\n         [ 69.06757 , 173.54321 ],\n         [ 73.23285 , 180.18668 ],\n         [ 78.361885, 186.15675 ],\n         [ 84.165535, 191.46458 ],\n         [ 90.59703 , 196.18845 ],\n         [ 97.71274 , 200.03775 ],\n         [105.576065, 202.84189 ],\n         [ 65.07649 , 112.24603 ],\n         [ 63.973663, 119.950935],\n         [ 63.10582 , 127.58645 ],\n         [ 62.554943, 135.24564 ],\n         [ 62.409275, 143.02225 ],\n         [ 62.723667, 150.94577 ],\n         [ 63.778725, 158.83368 ],\n         [ 65.892914, 166.38373 ],\n         [174.18709 , 115.95762 ],\n         [160.77101 , 180.50728 ],\n         [156.12474 , 186.17552 ],\n         [150.6615  , 191.1874  ],\n         [144.62395 , 195.52505 ],\n         [138.02284 , 199.33391 ],\n         [130.76    , 202.28693 ],\n         [122.88458 , 204.07634 ],\n         [174.01979 , 123.46845 ],\n         [173.71298 , 130.88612 ],\n         [173.20357 , 138.17944 ],\n         [172.3839  , 145.48923 ],\n         [171.24068 , 152.80658 ],\n         [169.66377 , 160.21805 ],\n         [167.55435 , 167.43585 ],\n         [164.58984 , 174.22716 ],\n         [100.1505  , 116.163155],\n         [100.4962  , 112.90981 ],\n         [ 90.95623 , 112.934845],\n         [ 95.20466 , 115.00858 ],\n         [105.252914, 116.12675 ],\n         [100.50044 , 112.9048  ],\n         [109.982735, 115.30707 ],\n         [101.110214, 109.987465],\n         [ 95.59003 , 110.520874],\n         [106.17903 , 111.74489 ],\n         [ 84.5026  , 103.4834  ],\n         [ 92.07941 , 103.00479 ],\n         [ 99.67037 , 102.91339 ],\n         [114.527756, 106.039085],\n         [107.32296 , 103.68777 ],\n         [ 91.3747  ,  98.42523 ],\n         [ 99.976166,  97.17302 ],\n         [115.49755 , 102.225815],\n         [108.50802 ,  98.900375],\n         [ 96.09316 , 159.29102 ],\n         [117.85209 , 177.52432 ],\n         [105.92748 , 166.81842 ],\n         [100.47452 , 167.86827 ],\n         [107.42318 , 174.32082 ],\n         [130.4761  , 169.09781 ],\n         [135.52486 , 170.92896 ],\n         [128.24612 , 176.16167 ],\n         [118.36649 , 170.66682 ],\n         [140.72379 , 163.37492 ],\n         [119.581055, 161.28928 ],\n         [115.22922 , 156.34895 ],\n         [105.13261 , 156.83868 ],\n         [ 99.48924 , 160.3016  ],\n         [107.73744 , 159.58955 ],\n         [124.706375, 157.18123 ],\n         [133.62187 , 159.34935 ],\n         [137.45471 , 163.77097 ],\n         [130.6156  , 161.67397 ],\n         [119.92648 , 157.64276 ],\n         [124.37834 , 113.53086 ],\n         [123.665146, 122.327354],\n         [123.004814, 131.11055 ],\n         [116.78735 , 116.02775 ],\n         [111.595474, 133.04082 ],\n         [106.92338 , 140.36714 ],\n         [110.804504, 144.41109 ],\n         [115.45167 , 146.0795  ],\n         [120.87408 , 148.34491 ],\n         [130.80157 , 117.75034 ],\n         [132.37404 , 135.62299 ],\n         [135.24457 , 143.6902  ],\n         [131.07219 , 146.61362 ],\n         [126.35668 , 147.51894 ],\n         [122.321526, 139.96642 ],\n         [145.41301 , 121.110435],\n         [145.66302 , 117.83229 ],\n         [136.31726 , 118.37736 ],\n         [140.62753 , 120.00051 ],\n         [150.29941 , 120.98989 ],\n         [145.66066 , 117.830124],\n         [154.6494  , 119.95304 ],\n         [145.7661  , 114.92032 ],\n         [140.62003 , 115.63823 ],\n         [150.84753 , 116.61452 ],\n         [135.80083 , 109.33425 ],\n         [142.68085 , 108.76147 ],\n         [149.52112 , 109.71206 ],\n         [156.0727  , 111.55469 ],\n         [162.58388 , 113.79005 ],\n         [135.81412 , 105.813286],\n         [142.68079 , 104.339325],\n         [150.55804 , 104.69493 ],\n         [157.73604 , 107.72734 ]], dtype=float32)}]"
     },
     "execution_count": 8,
     "metadata": {},
     "output_type": "execute_result"
    }
   ],
   "source": [
    "faces"
   ],
   "metadata": {
    "collapsed": false,
    "pycharm": {
     "name": "#%%\n"
    }
   }
  },
  {
   "cell_type": "code",
   "execution_count": 2,
   "outputs": [
    {
     "name": "stdout",
     "output_type": "stream",
     "text": [
      "Applied providers: ['CUDAExecutionProvider', 'CPUExecutionProvider'], with options: {'CUDAExecutionProvider': {'do_copy_in_default_stream': '1', 'cudnn_conv_algo_search': 'EXHAUSTIVE', 'device_id': '0', 'gpu_external_alloc': '0', 'enable_cuda_graph': '0', 'gpu_mem_limit': '18446744073709551615', 'gpu_external_free': '0', 'gpu_external_empty_cache': '0', 'arena_extend_strategy': 'kNextPowerOfTwo', 'cudnn_conv_use_max_workspace': '0', 'cudnn_conv1d_pad_to_nc1d': '0'}, 'CPUExecutionProvider': {}}\n"
     ]
    }
   ],
   "source": [
    "handler = insightface.model_zoo.get_model(r\"C:\\Users\\beich\\.insightface\\models\\buffalo_l\\2d106det.onnx\", providers=['CUDAExecutionProvider'])\n",
    "handler.prepare(ctx_id=0)"
   ],
   "metadata": {
    "collapsed": false,
    "pycharm": {
     "name": "#%%\n"
    }
   }
  },
  {
   "cell_type": "code",
   "execution_count": 4,
   "outputs": [],
   "source": [
    "face=insightface.app.common.Face()"
   ],
   "metadata": {
    "collapsed": false,
    "pycharm": {
     "name": "#%%\n"
    }
   }
  },
  {
   "cell_type": "code",
   "execution_count": 10,
   "outputs": [],
   "source": [
    "face.kps=np.array([[100.397   , 111.5616  ],[147.20381 , 119.99308 ],[122.78383 , 139.87431 ],\n",
    "         [ 94.735695, 156.80394 ],\n",
    "         [139.21259 , 163.79388 ]])\n",
    "face.bbox=np.array([ 63.757607,  56.124783, 173.10286 , 201.49318 ])"
   ],
   "metadata": {
    "collapsed": false,
    "pycharm": {
     "name": "#%%\n"
    }
   }
  },
  {
   "cell_type": "code",
   "execution_count": 11,
   "outputs": [],
   "source": [
    "img = cv2.cvtColor(cv2.imread(r\"D:\\DataBase\\51\\lfw_original\\test\\Aaron_Guiel\\Aaron_Guiel_0001.jpg\",cv2.IMREAD_COLOR), cv2.COLOR_BGR2RGB)\n",
    "faces = handler.get(img,face)"
   ],
   "metadata": {
    "collapsed": false,
    "pycharm": {
     "name": "#%%\n"
    }
   }
  },
  {
   "cell_type": "code",
   "execution_count": 9,
   "outputs": [],
   "source": [
    "faces=np.array(faces[0]['landmark_2d_106']).astype(int)"
   ],
   "metadata": {
    "collapsed": false,
    "pycharm": {
     "name": "#%%\n"
    }
   }
  },
  {
   "cell_type": "code",
   "execution_count": 36,
   "outputs": [],
   "source": [
    "img = cv2.cvtColor(cv2.imread(r\"D:\\DataBase\\51\\lfw_original\\test\\Aaron_Guiel\\Aaron_Guiel_0001.jpg\",cv2.IMREAD_COLOR), cv2.COLOR_BGR2RGB)\n"
   ],
   "metadata": {
    "collapsed": false,
    "pycharm": {
     "name": "#%%\n"
    }
   }
  },
  {
   "cell_type": "code",
   "execution_count": 14,
   "outputs": [
    {
     "name": "stdout",
     "output_type": "stream",
     "text": [
      "[[100 111]\n",
      " [ 94 156]]\n"
     ]
    }
   ],
   "source": [
    "import copy\n",
    "from scipy import interpolate\n",
    "import numpy as np\n",
    "# def interpolate_524(points_5):\n",
    "#     points_5=np.array(points_5[:5])\n",
    "#     temp1 = interpolate.interp1d(range(5), points_5[:,0])\n",
    "#     temp2 = interpolate.interp1d(range(5), points_5[:,1])\n",
    "#     xnew = [0,4/3,8/3,4]\n",
    "#     result=np.array([temp1(xnew),temp2(xnew)])\n",
    "#     result=result.transpose()\n",
    "#\n",
    "#     return result\n",
    "#\n",
    "# def interpolate_eyebrow(original_points):\n",
    "#     a=interpolate_524(original_points[:5])\n",
    "#     b=interpolate_524(original_points[[4,5,6,7,0]])\n",
    "#     c=interpolate_524(original_points[8:13])\n",
    "#     d=interpolate_524(original_points[[12,13,14,15,8]])\n",
    "#     result=np.r_[a,b,c,d].astype(int)\n",
    "#     print(result)\n",
    "#     return result\n",
    "window_name = 'Image'\n",
    "# Center coordinates\n",
    "# center_coordinates =faces[[ 35,41,40,42,39,37,33,36, 89,95,94,96,93,91,87,90]]\n",
    "center_coordinates =faces[0]['kps'][[0,3]]\n",
    "center_coordinates=np.array(center_coordinates).astype(int)\n",
    "# center_coordinates=interpolate_eyebrow(center_coordinates)\n",
    "print(center_coordinates)\n",
    "# Radius of circle\n",
    "radius = 3\n",
    "\n",
    "# Red color in BGR\n",
    "color1 = np.array([93, 200, 40])\n",
    "color2 = np.array([40, 200, 93])\n",
    "color1 = np.array([0, 255, 0])\n",
    "color2 = np.array([255, 0, 0])\n",
    "\n",
    "\n",
    "\n",
    "# Line thickness of -1 px\n",
    "thickness = -1\n",
    "image=copy.copy(img)\n",
    "# Using cv2.circle() method\n",
    "# Draw a circle of red color of thickness -1 px\n",
    "l=len(center_coordinates)-1\n",
    "for i,center in enumerate(center_coordinates):\n",
    "    color=color1*(1-(i/l)**2)+color2*(1-((l-i)/l)**2)\n",
    "    color=tuple(map(round,color))\n",
    "    image = cv2.circle(image, center, radius, color, thickness)\n",
    "\n",
    "# Displaying the image\n",
    "cv2.imshow(window_name, cv2.cvtColor(image,cv2.COLOR_BGR2RGB))\n",
    "\n",
    "cv2.imwrite(\"4.jpg\",cv2.cvtColor(image,cv2.COLOR_BGR2RGB))\n",
    "cv2.waitKey(0)\n",
    "cv2.destroyAllWindows()"
   ],
   "metadata": {
    "collapsed": false,
    "pycharm": {
     "name": "#%%\n"
    }
   }
  },
  {
   "cell_type": "code",
   "execution_count": 10,
   "outputs": [],
   "source": [
    "\n",
    "cv2.destroyAllWindows()"
   ],
   "metadata": {
    "collapsed": false,
    "pycharm": {
     "name": "#%%\n"
    }
   }
  },
  {
   "cell_type": "code",
   "execution_count": 14,
   "outputs": [
    {
     "data": {
      "text/plain": "numpy.ndarray"
     },
     "execution_count": 14,
     "metadata": {},
     "output_type": "execute_result"
    }
   ],
   "source": [
    "type(faces)"
   ],
   "metadata": {
    "collapsed": false,
    "pycharm": {
     "name": "#%%\n"
    }
   }
  },
  {
   "cell_type": "code",
   "execution_count": 13,
   "outputs": [
    {
     "data": {
      "text/plain": "array([[114.29993 , 204.27399 ],\n       [ 66.375946, 104.44423 ],\n       [ 69.06891 , 173.54298 ],\n       [ 73.23396 , 180.18639 ],\n       [ 78.36275 , 186.15637 ],\n       [ 84.166176, 191.4642  ],\n       [ 90.59746 , 196.188   ],\n       [ 97.71303 , 200.03737 ],\n       [105.57618 , 202.8415  ],\n       [ 65.078125, 112.246414],\n       [ 63.97531 , 119.95124 ],\n       [ 63.10749 , 127.58671 ],\n       [ 62.556667, 135.24583 ],\n       [ 62.41105 , 143.02238 ],\n       [ 62.72542 , 150.94579 ],\n       [ 63.780422, 158.83365 ],\n       [ 65.89446 , 166.38359 ],\n       [174.1861  , 115.95716 ],\n       [160.77078 , 180.50735 ],\n       [156.12457 , 186.17578 ],\n       [150.66133 , 191.18774 ],\n       [144.6237  , 195.52538 ],\n       [138.02258 , 199.33412 ],\n       [130.75975 , 202.28693 ],\n       [122.884415, 204.07613 ],\n       [174.01888 , 123.46798 ],\n       [173.7121  , 130.88562 ],\n       [173.20267 , 138.17888 ],\n       [172.38301 , 145.48865 ],\n       [171.2398  , 152.80602 ],\n       [169.66302 , 160.21756 ],\n       [167.55374 , 167.4355  ],\n       [164.58943 , 174.22702 ],\n       [100.15059 , 116.163284],\n       [100.4963  , 112.90984 ],\n       [ 90.95629 , 112.93501 ],\n       [ 95.20474 , 115.008705],\n       [105.253006, 116.12687 ],\n       [100.50056 , 112.90484 ],\n       [109.982864, 115.30724 ],\n       [101.11022 , 109.98742 ],\n       [ 95.59004 , 110.5209  ],\n       [106.179115, 111.744896],\n       [ 84.50253 , 103.48327 ],\n       [ 92.07926 , 103.004684],\n       [ 99.67025 , 102.91336 ],\n       [114.52784 , 106.03911 ],\n       [107.32291 , 103.68775 ],\n       [ 91.37449 ,  98.42501 ],\n       [ 99.976006,  97.17281 ],\n       [115.497635, 102.22572 ],\n       [108.507965,  98.90023 ],\n       [ 96.09327 , 159.29161 ],\n       [117.85231 , 177.52597 ],\n       [105.92762 , 166.81912 ],\n       [100.47448 , 167.86935 ],\n       [107.4232  , 174.32236 ],\n       [130.47594 , 169.09857 ],\n       [135.5248  , 170.93005 ],\n       [128.2463  , 176.16309 ],\n       [118.36664 , 170.66763 ],\n       [140.72324 , 163.37569 ],\n       [119.58118 , 161.28978 ],\n       [115.229385, 156.34882 ],\n       [105.13269 , 156.8389  ],\n       [ 99.48935 , 160.3022  ],\n       [107.73761 , 159.59007 ],\n       [124.70651 , 157.18109 ],\n       [133.62183 , 159.34962 ],\n       [137.45427 , 163.77167 ],\n       [130.61537 , 161.67453 ],\n       [119.92665 , 157.64264 ],\n       [124.37866 , 113.53105 ],\n       [123.66559 , 122.32761 ],\n       [123.00535 , 131.11084 ],\n       [116.78768 , 116.02802 ],\n       [111.59605 , 133.04134 ],\n       [106.924   , 140.36777 ],\n       [110.80516 , 144.41164 ],\n       [115.4523  , 146.07996 ],\n       [120.87468 , 148.34521 ],\n       [130.80179 , 117.750465],\n       [132.37419 , 135.62335 ],\n       [135.24463 , 143.69075 ],\n       [131.07242 , 146.6141  ],\n       [126.35711 , 147.5194  ],\n       [122.3222  , 139.96675 ],\n       [145.41293 , 121.11061 ],\n       [145.66272 , 117.83254 ],\n       [136.3172  , 118.37755 ],\n       [140.62749 , 120.00072 ],\n       [150.29927 , 120.9901  ],\n       [145.66037 , 117.830376],\n       [154.64925 , 119.95328 ],\n       [145.76593 , 114.92047 ],\n       [140.6199  , 115.63839 ],\n       [150.84735 , 116.61471 ],\n       [135.80045 , 109.334335],\n       [142.68056 , 108.76153 ],\n       [149.5209  , 109.712036],\n       [156.07248 , 111.55467 ],\n       [162.58363 , 113.79015 ],\n       [135.81375 , 105.81323 ],\n       [142.68048 , 104.33923 ],\n       [150.55786 , 104.694855],\n       [157.73589 , 107.72732 ]], dtype=float32)"
     },
     "execution_count": 13,
     "metadata": {},
     "output_type": "execute_result"
    }
   ],
   "source": [
    "faces"
   ],
   "metadata": {
    "collapsed": false,
    "pycharm": {
     "name": "#%%\n"
    }
   }
  },
  {
   "cell_type": "code",
   "execution_count": null,
   "outputs": [],
   "source": [],
   "metadata": {
    "collapsed": false,
    "pycharm": {
     "name": "#%%\n"
    }
   }
  }
 ],
 "metadata": {
  "kernelspec": {
   "display_name": "Python 3",
   "language": "python",
   "name": "python3"
  },
  "language_info": {
   "codemirror_mode": {
    "name": "ipython",
    "version": 2
   },
   "file_extension": ".py",
   "mimetype": "text/x-python",
   "name": "python",
   "nbconvert_exporter": "python",
   "pygments_lexer": "ipython2",
   "version": "2.7.6"
  }
 },
 "nbformat": 4,
 "nbformat_minor": 0
}